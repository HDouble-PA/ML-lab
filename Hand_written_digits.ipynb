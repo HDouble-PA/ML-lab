{
  "nbformat": 4,
  "nbformat_minor": 0,
  "metadata": {
    "colab": {
      "name": "Hand-written-digits",
      "provenance": [],
      "collapsed_sections": [],
      "authorship_tag": "ABX9TyOaPv285x0uK7/yKh/gCC4t",
      "include_colab_link": true
    },
    "kernelspec": {
      "name": "python3",
      "display_name": "Python 3"
    },
    "accelerator": "GPU"
  },
  "cells": [
    {
      "cell_type": "markdown",
      "metadata": {
        "id": "view-in-github",
        "colab_type": "text"
      },
      "source": [
        "<a href=\"https://colab.research.google.com/github/HDouble-PA/ML-lab/blob/master/Hand_written_digits.ipynb\" target=\"_parent\"><img src=\"https://colab.research.google.com/assets/colab-badge.svg\" alt=\"Open In Colab\"/></a>"
      ]
    },
    {
      "cell_type": "markdown",
      "metadata": {
        "id": "SSXHYOYg0Mep",
        "colab_type": "text"
      },
      "source": [
        "# Import the libraries and load the **dataset**"
      ]
    },
    {
      "cell_type": "code",
      "metadata": {
        "id": "e9r2BBa10VCD",
        "colab_type": "code",
        "colab": {}
      },
      "source": [
        "import keras \n",
        "import keras .utils\n",
        "from keras.datasets import mnist\n",
        "from keras.models import Sequential\n",
        "from keras.layers import Dense, Dropout, Flatten\n",
        "from keras.layers import Conv2D, MaxPooling2D\n",
        "from keras import backend as K\n",
        "from keras.utils.np_utils import to_categorical"
      ],
      "execution_count": 43,
      "outputs": []
    },
    {
      "cell_type": "markdown",
      "metadata": {
        "id": "pglfv-n-1VRR",
        "colab_type": "text"
      },
      "source": [
        "Split data between train and test\n"
      ]
    },
    {
      "cell_type": "code",
      "metadata": {
        "id": "B3GZV9-X1fHz",
        "colab_type": "code",
        "colab": {}
      },
      "source": [
        "(x_train, y_train), (x_test, y_test) = mnist.load_data() "
      ],
      "execution_count": 44,
      "outputs": []
    },
    {
      "cell_type": "code",
      "metadata": {
        "id": "OjH9eqR014DY",
        "colab_type": "code",
        "colab": {
          "base_uri": "https://localhost:8080/",
          "height": 34
        },
        "outputId": "c1c31691-c806-4dac-debf-340bc3a6a235"
      },
      "source": [
        "print(x_train.shape, y_train.shape)"
      ],
      "execution_count": 45,
      "outputs": [
        {
          "output_type": "stream",
          "text": [
            "(60000, 28, 28) (60000,)\n"
          ],
          "name": "stdout"
        }
      ]
    },
    {
      "cell_type": "markdown",
      "metadata": {
        "id": "q3ia3I7D2ec7",
        "colab_type": "text"
      },
      "source": [
        "## Preprocess the **data**"
      ]
    },
    {
      "cell_type": "code",
      "metadata": {
        "id": "f7h8am-B2ktP",
        "colab_type": "code",
        "colab": {}
      },
      "source": [
        "x_train = x_train.reshape(x_train.shape[0], 28, 28, 1)\n",
        "x_test = x_test.reshape(x_test.shape[0], 28, 28, 1)\n",
        "input_shape = (28, 28, 1)"
      ],
      "execution_count": 46,
      "outputs": []
    },
    {
      "cell_type": "code",
      "metadata": {
        "id": "PxBYaEtS3ZwO",
        "colab_type": "code",
        "colab": {}
      },
      "source": [
        "from keras.utils import np_utils\n",
        "\n",
        "y_train = keras.utils.to_categorical(y_train, num_classes)\n",
        "y_test = keras.utils.to_categorical(y_test, num_classes)"
      ],
      "execution_count": 47,
      "outputs": []
    },
    {
      "cell_type": "code",
      "metadata": {
        "id": "u-7OBNoW4-sm",
        "colab_type": "code",
        "colab": {
          "base_uri": "https://localhost:8080/",
          "height": 68
        },
        "outputId": "7455f6ca-7406-4d9c-9cf2-5d3c6f4890b7"
      },
      "source": [
        "x_train = x_train.astype('float32')\n",
        "x_test = x_test.astype('float32')\n",
        "x_train /= 255\n",
        "x_test /= 255\n",
        "print('x_train shape:', x_train.shape)\n",
        "print(x_train.shape[0], 'train samples')\n",
        "print(x_test.shape[0], 'test samples')"
      ],
      "execution_count": 48,
      "outputs": [
        {
          "output_type": "stream",
          "text": [
            "x_train shape: (60000, 28, 28, 1)\n",
            "60000 train samples\n",
            "10000 test samples\n"
          ],
          "name": "stdout"
        }
      ]
    },
    {
      "cell_type": "markdown",
      "metadata": {
        "id": "f5Bx6PtU5Xza",
        "colab_type": "text"
      },
      "source": [
        "# Create the **model**"
      ]
    },
    {
      "cell_type": "code",
      "metadata": {
        "id": "ENwLC2BQ5bIQ",
        "colab_type": "code",
        "colab": {}
      },
      "source": [
        "batch_size = 128\n",
        "num_classes = 10\n",
        "epochs = 10\n",
        "model = Sequential()\n",
        "model.add(Conv2D(32, kernel_size=(3, 3),activation='relu',input_shape=input_shape))\n",
        "model.add(Conv2D(64, (3, 3), activation='relu'))\n",
        "model.add(MaxPooling2D(pool_size=(2, 2)))\n",
        "model.add(Dropout(0.25))\n",
        "model.add(Flatten())\n",
        "model.add(Dense(256, activation='relu'))\n",
        "model.add(Dropout(0.5))\n",
        "model.add(Dense(num_classes, activation='softmax'))\n",
        "model.compile(loss=keras.losses.categorical_crossentropy,optimizer=keras.optimizers.Adadelta(),metrics=['accuracy'])"
      ],
      "execution_count": 49,
      "outputs": []
    },
    {
      "cell_type": "code",
      "metadata": {
        "id": "QtjrTyfH6ARR",
        "colab_type": "code",
        "colab": {
          "base_uri": "https://localhost:8080/",
          "height": 425
        },
        "outputId": "b82cf536-2bf6-4684-ea07-ad848dc97d33"
      },
      "source": [
        "\n",
        "model.summary()"
      ],
      "execution_count": 50,
      "outputs": [
        {
          "output_type": "stream",
          "text": [
            "Model: \"sequential_2\"\n",
            "_________________________________________________________________\n",
            "Layer (type)                 Output Shape              Param #   \n",
            "=================================================================\n",
            "conv2d_2 (Conv2D)            (None, 26, 26, 32)        320       \n",
            "_________________________________________________________________\n",
            "conv2d_3 (Conv2D)            (None, 24, 24, 64)        18496     \n",
            "_________________________________________________________________\n",
            "max_pooling2d_1 (MaxPooling2 (None, 12, 12, 64)        0         \n",
            "_________________________________________________________________\n",
            "dropout_2 (Dropout)          (None, 12, 12, 64)        0         \n",
            "_________________________________________________________________\n",
            "flatten_1 (Flatten)          (None, 9216)              0         \n",
            "_________________________________________________________________\n",
            "dense_2 (Dense)              (None, 256)               2359552   \n",
            "_________________________________________________________________\n",
            "dropout_3 (Dropout)          (None, 256)               0         \n",
            "_________________________________________________________________\n",
            "dense_3 (Dense)              (None, 10)                2570      \n",
            "=================================================================\n",
            "Total params: 2,380,938\n",
            "Trainable params: 2,380,938\n",
            "Non-trainable params: 0\n",
            "_________________________________________________________________\n"
          ],
          "name": "stdout"
        }
      ]
    },
    {
      "cell_type": "code",
      "metadata": {
        "id": "fTuYk10w7OTm",
        "colab_type": "code",
        "colab": {
          "base_uri": "https://localhost:8080/",
          "height": 374
        },
        "outputId": "6e12cd7f-38b0-42ef-eb7d-25455d8a0df1"
      },
      "source": [
        "hist = model.fit(x_train, y_train,batch_size=batch_size,epochs=epochs,verbose=1,validation_data=(x_test, y_test))\n",
        "print(\"The model has successfully trained\")"
      ],
      "execution_count": 51,
      "outputs": [
        {
          "output_type": "stream",
          "text": [
            "Epoch 1/10\n",
            "469/469 [==============================] - 4s 9ms/step - loss: 2.2845 - accuracy: 0.1309 - val_loss: 2.2483 - val_accuracy: 0.2493\n",
            "Epoch 2/10\n",
            "469/469 [==============================] - 4s 8ms/step - loss: 2.2257 - accuracy: 0.2449 - val_loss: 2.1769 - val_accuracy: 0.4712\n",
            "Epoch 3/10\n",
            "469/469 [==============================] - 4s 8ms/step - loss: 2.1504 - accuracy: 0.3719 - val_loss: 2.0804 - val_accuracy: 0.6201\n",
            "Epoch 4/10\n",
            "469/469 [==============================] - 4s 8ms/step - loss: 2.0463 - accuracy: 0.4791 - val_loss: 1.9439 - val_accuracy: 0.7090\n",
            "Epoch 5/10\n",
            "469/469 [==============================] - 4s 8ms/step - loss: 1.8983 - accuracy: 0.5600 - val_loss: 1.7537 - val_accuracy: 0.7540\n",
            "Epoch 6/10\n",
            "469/469 [==============================] - 4s 8ms/step - loss: 1.7074 - accuracy: 0.6152 - val_loss: 1.5145 - val_accuracy: 0.7828\n",
            "Epoch 7/10\n",
            "469/469 [==============================] - 4s 8ms/step - loss: 1.4847 - accuracy: 0.6578 - val_loss: 1.2576 - val_accuracy: 0.8046\n",
            "Epoch 8/10\n",
            "469/469 [==============================] - 4s 8ms/step - loss: 1.2744 - accuracy: 0.6841 - val_loss: 1.0349 - val_accuracy: 0.8174\n",
            "Epoch 9/10\n",
            "469/469 [==============================] - 4s 8ms/step - loss: 1.1029 - accuracy: 0.7112 - val_loss: 0.8675 - val_accuracy: 0.8289\n",
            "Epoch 10/10\n",
            "469/469 [==============================] - 4s 8ms/step - loss: 0.9793 - accuracy: 0.7282 - val_loss: 0.7501 - val_accuracy: 0.8385\n",
            "The model has successfully trained\n"
          ],
          "name": "stdout"
        }
      ]
    },
    {
      "cell_type": "code",
      "metadata": {
        "id": "_x0zosG574uw",
        "colab_type": "code",
        "colab": {
          "base_uri": "https://localhost:8080/",
          "height": 51
        },
        "outputId": "8ca3d434-804f-40da-dcc1-13997e9b88cb"
      },
      "source": [
        "score = model.evaluate(x_test, y_test, verbose=0)\n",
        "print('Test loss:', score[0])\n",
        "print('Test accuracy:', score[1])"
      ],
      "execution_count": 52,
      "outputs": [
        {
          "output_type": "stream",
          "text": [
            "Test loss: 0.7500964999198914\n",
            "Test accuracy: 0.8385000228881836\n"
          ],
          "name": "stdout"
        }
      ]
    },
    {
      "cell_type": "code",
      "metadata": {
        "id": "1wVIFkeY8oKc",
        "colab_type": "code",
        "colab": {
          "base_uri": "https://localhost:8080/",
          "height": 34
        },
        "outputId": "6eefb7b7-36cf-4d57-c3bc-41d8aedf7eef"
      },
      "source": [
        "model.save('mnist.h5')\n",
        "print(\"Saving the model as mnist.h5\")"
      ],
      "execution_count": 53,
      "outputs": [
        {
          "output_type": "stream",
          "text": [
            "Saving the model as mnist.h5\n"
          ],
          "name": "stdout"
        }
      ]
    }
  ]
}